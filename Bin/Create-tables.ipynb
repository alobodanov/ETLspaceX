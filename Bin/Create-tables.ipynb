{
 "cells": [
  {
   "cell_type": "code",
   "execution_count": 1,
   "metadata": {},
   "outputs": [],
   "source": [
    "from sqlalchemy import *\n",
    "from sqlalchemy.schema import CreateSchema\n",
    "import pymysql\n",
    "\n",
    "username = 'root'\n",
    "pwd = 'nancy911'\n",
    "host = 'localhost'\n",
    "metadata = MetaData()"
   ]
  },
  {
   "cell_type": "code",
   "execution_count": 2,
   "metadata": {},
   "outputs": [
    {
     "data": {
      "text/plain": [
       "<sqlalchemy.engine.result.ResultProxy at 0x10afc8f60>"
      ]
     },
     "execution_count": 2,
     "metadata": {},
     "output_type": "execute_result"
    }
   ],
   "source": [
    "engine = create_engine(f'mysql+pymysql://{username}:{pwd}@{host}:3306')\n",
    "engine.execute(CreateSchema('spacex'))"
   ]
  },
  {
   "cell_type": "code",
   "execution_count": 3,
   "metadata": {},
   "outputs": [],
   "source": [
    "engine.execute(\"USE spacex\")\n",
    "metadata = MetaData()\n",
    "\n",
    "Rockets = Table('rockets', metadata,\n",
    "    Column('id', Integer, primary_key=True),\n",
    "    Column('rocket_name', String(50), nullable=False),\n",
    "    Column('rocket_id', String(30)),\n",
    "    Column('cost_per_launch', Integer, nullable=True),\n",
    "    Column('country', String(100), nullable=True),\n",
    "    Column('description', String(255), nullable=True),\n",
    "    Column('rocket_type', String(255), nullable=True),\n",
    "    Column('active', Integer, nullable=True)\n",
    ")\n",
    "\n",
    "Launcher = Table('launcher', metadata,\n",
    "    Column('rocket_name', String(50), nullable=False),\n",
    "    Column('launch_pads_id', Integer, nullable=False),\n",
    "    Column('rocket_id', String(50), nullable=False),\n",
    "    Column('date_utc', String(50), nullable=True),\n",
    "    Column('details', String(500), nullable=True),\n",
    "    Column('flight_number', Integer, nullable=True),\n",
    "    Column('year', String(5), nullable=True)\n",
    ")\n",
    "\n",
    "Launchpads = Table('launch_pads', metadata,\n",
    "    Column('launch_pads_id', Integer, primary_key=True),\n",
    "    Column('location_name', String(30), nullable=True),\n",
    "    Column('region', String(30), nullable=True),\n",
    "    Column('status', String(30), nullable=True),\n",
    "    Column('details', String(1000), nullable=True),\n",
    "    Column('successful_launches', String(30), nullable=True)\n",
    ")\n",
    "\n",
    "metadata.create_all(engine)"
   ]
  }
 ],
 "metadata": {
  "kernelspec": {
   "display_name": "Python 3",
   "language": "python",
   "name": "python3"
  },
  "language_info": {
   "codemirror_mode": {
    "name": "ipython",
    "version": 3
   },
   "file_extension": ".py",
   "mimetype": "text/x-python",
   "name": "python",
   "nbconvert_exporter": "python",
   "pygments_lexer": "ipython3",
   "version": "3.7.1"
  }
 },
 "nbformat": 4,
 "nbformat_minor": 2
}
